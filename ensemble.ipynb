{
  "cells": [
    {
      "cell_type": "markdown",
      "metadata": {
        "id": "kqiu7hH-UOiO"
      },
      "source": [
        "\n",
        "\n",
        "---\n",
        "\n",
        "\n",
        "**Predictive Analysis for Heart Disease Patient Re-admission in Hospital**\n",
        "\n",
        "\n",
        "---\n",
        "\n",
        "\n",
        "We are proposing idea of predictive analytics for the **‘Heart Diagnosis Patient’**.\n",
        "\n",
        "With the help of ML algorithms we are predicting whether the patient need to re-admit the hospital again in the future or not, on the basis of the predictive analysis of the patient’s past and present reports.\n",
        "\n",
        "\n",
        "---\n",
        "\n"
      ]
    },
    {
      "cell_type": "code",
      "execution_count": 1,
      "metadata": {
        "id": "K2wx4pYt21oh"
      },
      "outputs": [],
      "source": [
        "#required library\n",
        "import numpy as np\n",
        "import pandas as pd\n",
        "from sklearn.naive_bayes import GaussianNB\n",
        "from sklearn.tree import DecisionTreeClassifier\n",
        "\n",
        "from sklearn.neighbors import KNeighborsClassifier\n",
        "from sklearn.ensemble import RandomForestClassifier\n",
        "from sklearn.model_selection import cross_val_score\n",
        "\n",
        "from sklearn.model_selection import train_test_split\n",
        "#from lazypredict.Supervised import LazyClassifier"
      ]
    },
    {
      "cell_type": "code",
      "execution_count": 2,
      "metadata": {
        "colab": {
          "base_uri": "https://localhost:8080/",
          "height": 333
        },
        "id": "4trWNu70bUxU",
        "outputId": "8f8854a3-7a55-4721-e366-b5b22b960303"
      },
      "outputs": [],
      "source": [
        "data = pd.read_csv('framingham5k_New.csv')\n"
      ]
    },
    {
      "cell_type": "markdown",
      "metadata": {
        "id": "ibYaoxLDa-Ln"
      },
      "source": [
        "\n",
        "\n",
        "---\n",
        "\n",
        "\n",
        "We are **evaluating the accuracy of the algorithms.**\n",
        "\n",
        "\n",
        "---\n",
        "\n",
        "1.We are evaluating the accuracy of the **Decision Tree**.\n",
        "\n",
        "---\n",
        "\n",
        "\n"
      ]
    },
    {
      "cell_type": "code",
      "execution_count": 3,
      "metadata": {
        "id": "9gRLz4VA-Mey"
      },
      "outputs": [],
      "source": [
        "X=data.iloc[:,:-1]\n",
        "y=data.iloc[:,-1]\n",
        "\n"
      ]
    },
    {
      "cell_type": "code",
      "execution_count": 4,
      "metadata": {
        "colab": {
          "base_uri": "https://localhost:8080/"
        },
        "id": "8ds0p8n539pt",
        "outputId": "78463ccf-f707-4443-f941-8c2d18e70e09"
      },
      "outputs": [
        {
          "data": {
            "text/plain": [
              "((2968, 15), (1272, 15))"
            ]
          },
          "execution_count": 4,
          "metadata": {},
          "output_type": "execute_result"
        }
      ],
      "source": [
        "#spliting of test data and target data.\n",
        "X_train, X_test, y_train, y_test = train_test_split(X, y, test_size=0.3, random_state=0)\n",
        "X_train.shape, X_test.shape"
      ]
    },
    {
      "cell_type": "code",
      "execution_count": 5,
      "metadata": {
        "colab": {
          "base_uri": "https://localhost:8080/"
        },
        "id": "dBkvL6Oh-ply",
        "outputId": "427d20cf-7e52-4b81-8c21-0c6fa596613f"
      },
      "outputs": [
        {
          "data": {
            "text/html": [
              "<style>#sk-container-id-1 {color: black;background-color: white;}#sk-container-id-1 pre{padding: 0;}#sk-container-id-1 div.sk-toggleable {background-color: white;}#sk-container-id-1 label.sk-toggleable__label {cursor: pointer;display: block;width: 100%;margin-bottom: 0;padding: 0.3em;box-sizing: border-box;text-align: center;}#sk-container-id-1 label.sk-toggleable__label-arrow:before {content: \"▸\";float: left;margin-right: 0.25em;color: #696969;}#sk-container-id-1 label.sk-toggleable__label-arrow:hover:before {color: black;}#sk-container-id-1 div.sk-estimator:hover label.sk-toggleable__label-arrow:before {color: black;}#sk-container-id-1 div.sk-toggleable__content {max-height: 0;max-width: 0;overflow: hidden;text-align: left;background-color: #f0f8ff;}#sk-container-id-1 div.sk-toggleable__content pre {margin: 0.2em;color: black;border-radius: 0.25em;background-color: #f0f8ff;}#sk-container-id-1 input.sk-toggleable__control:checked~div.sk-toggleable__content {max-height: 200px;max-width: 100%;overflow: auto;}#sk-container-id-1 input.sk-toggleable__control:checked~label.sk-toggleable__label-arrow:before {content: \"▾\";}#sk-container-id-1 div.sk-estimator input.sk-toggleable__control:checked~label.sk-toggleable__label {background-color: #d4ebff;}#sk-container-id-1 div.sk-label input.sk-toggleable__control:checked~label.sk-toggleable__label {background-color: #d4ebff;}#sk-container-id-1 input.sk-hidden--visually {border: 0;clip: rect(1px 1px 1px 1px);clip: rect(1px, 1px, 1px, 1px);height: 1px;margin: -1px;overflow: hidden;padding: 0;position: absolute;width: 1px;}#sk-container-id-1 div.sk-estimator {font-family: monospace;background-color: #f0f8ff;border: 1px dotted black;border-radius: 0.25em;box-sizing: border-box;margin-bottom: 0.5em;}#sk-container-id-1 div.sk-estimator:hover {background-color: #d4ebff;}#sk-container-id-1 div.sk-parallel-item::after {content: \"\";width: 100%;border-bottom: 1px solid gray;flex-grow: 1;}#sk-container-id-1 div.sk-label:hover label.sk-toggleable__label {background-color: #d4ebff;}#sk-container-id-1 div.sk-serial::before {content: \"\";position: absolute;border-left: 1px solid gray;box-sizing: border-box;top: 0;bottom: 0;left: 50%;z-index: 0;}#sk-container-id-1 div.sk-serial {display: flex;flex-direction: column;align-items: center;background-color: white;padding-right: 0.2em;padding-left: 0.2em;position: relative;}#sk-container-id-1 div.sk-item {position: relative;z-index: 1;}#sk-container-id-1 div.sk-parallel {display: flex;align-items: stretch;justify-content: center;background-color: white;position: relative;}#sk-container-id-1 div.sk-item::before, #sk-container-id-1 div.sk-parallel-item::before {content: \"\";position: absolute;border-left: 1px solid gray;box-sizing: border-box;top: 0;bottom: 0;left: 50%;z-index: -1;}#sk-container-id-1 div.sk-parallel-item {display: flex;flex-direction: column;z-index: 1;position: relative;background-color: white;}#sk-container-id-1 div.sk-parallel-item:first-child::after {align-self: flex-end;width: 50%;}#sk-container-id-1 div.sk-parallel-item:last-child::after {align-self: flex-start;width: 50%;}#sk-container-id-1 div.sk-parallel-item:only-child::after {width: 0;}#sk-container-id-1 div.sk-dashed-wrapped {border: 1px dashed gray;margin: 0 0.4em 0.5em 0.4em;box-sizing: border-box;padding-bottom: 0.4em;background-color: white;}#sk-container-id-1 div.sk-label label {font-family: monospace;font-weight: bold;display: inline-block;line-height: 1.2em;}#sk-container-id-1 div.sk-label-container {text-align: center;}#sk-container-id-1 div.sk-container {/* jupyter's `normalize.less` sets `[hidden] { display: none; }` but bootstrap.min.css set `[hidden] { display: none !important; }` so we also need the `!important` here to be able to override the default hidden behavior on the sphinx rendered scikit-learn.org. See: https://github.com/scikit-learn/scikit-learn/issues/21755 */display: inline-block !important;position: relative;}#sk-container-id-1 div.sk-text-repr-fallback {display: none;}</style><div id=\"sk-container-id-1\" class=\"sk-top-container\"><div class=\"sk-text-repr-fallback\"><pre>DecisionTreeClassifier()</pre><b>In a Jupyter environment, please rerun this cell to show the HTML representation or trust the notebook. <br />On GitHub, the HTML representation is unable to render, please try loading this page with nbviewer.org.</b></div><div class=\"sk-container\" hidden><div class=\"sk-item\"><div class=\"sk-estimator sk-toggleable\"><input class=\"sk-toggleable__control sk-hidden--visually\" id=\"sk-estimator-id-1\" type=\"checkbox\" checked><label for=\"sk-estimator-id-1\" class=\"sk-toggleable__label sk-toggleable__label-arrow\">DecisionTreeClassifier</label><div class=\"sk-toggleable__content\"><pre>DecisionTreeClassifier()</pre></div></div></div></div></div>"
            ],
            "text/plain": [
              "DecisionTreeClassifier()"
            ]
          },
          "execution_count": 5,
          "metadata": {},
          "output_type": "execute_result"
        }
      ],
      "source": [
        "dt = DecisionTreeClassifier()\n",
        "dt.fit(X_train, y_train)"
      ]
    },
    {
      "cell_type": "code",
      "execution_count": 6,
      "metadata": {
        "colab": {
          "base_uri": "https://localhost:8080/"
        },
        "id": "ABp_rHnN-vn-",
        "outputId": "4625d5d7-c3b5-4f02-b477-e1dfd9e4f2f3"
      },
      "outputs": [
        {
          "name": "stdout",
          "output_type": "stream",
          "text": [
            "[0. 1. 0. 0. 0.]\n"
          ]
        }
      ],
      "source": [
        "# Making Predictions with Our Model\n",
        "predictions = dt.predict(X_test)\n",
        "print(predictions[:5])"
      ]
    },
    {
      "cell_type": "code",
      "execution_count": 7,
      "metadata": {
        "colab": {
          "base_uri": "https://localhost:8080/"
        },
        "id": "dDtpEn7v-69M",
        "outputId": "310efb35-bdd7-4593-90e7-602839cc789f"
      },
      "outputs": [
        {
          "name": "stdout",
          "output_type": "stream",
          "text": [
            "0.7539308176100629\n"
          ]
        }
      ],
      "source": [
        "# Measuring the accuracy of our model\n",
        "from sklearn.metrics import accuracy_score\n",
        "print(accuracy_score(y_test, predictions))"
      ]
    },
    {
      "cell_type": "markdown",
      "metadata": {
        "id": "STJHqD33_BJi"
      },
      "source": [
        "\n",
        "\n",
        "---\n",
        "\n",
        "\n",
        "2.We are evaluating the accuracy of the Naive Bayes algorithm.\n",
        "\n",
        "\n",
        "---\n",
        "\n"
      ]
    },
    {
      "cell_type": "code",
      "execution_count": 8,
      "metadata": {
        "colab": {
          "base_uri": "https://localhost:8080/"
        },
        "id": "QvJNe3gE_ABB",
        "outputId": "96c9465e-febe-4574-fdf3-cbd26f159c6b"
      },
      "outputs": [
        {
          "name": "stdout",
          "output_type": "stream",
          "text": [
            "GaussianNB() Accuracy:  82.335 %\n"
          ]
        }
      ],
      "source": [
        "model = GaussianNB()\n",
        "cv_scores = cross_val_score(model, X, y, cv=5)\n",
        "    \n",
        "print(model, 'Accuracy: ', round(cv_scores.mean()*100, 3), '%')"
      ]
    },
    {
      "cell_type": "markdown",
      "metadata": {
        "id": "cTKR2fQ3_zq-"
      },
      "source": [
        "The average accuracy obtained was 82.335%"
      ]
    },
    {
      "cell_type": "code",
      "execution_count": 9,
      "metadata": {
        "id": "ZCkcR1vkAFDt"
      },
      "outputs": [],
      "source": [
        "X_train, X_test, y_train, y_test = train_test_split(X, y, test_size=0.3, random_state=0)"
      ]
    },
    {
      "cell_type": "code",
      "execution_count": 10,
      "metadata": {
        "colab": {
          "base_uri": "https://localhost:8080/"
        },
        "id": "hqgf2BkaANpu",
        "outputId": "64ef46e0-4c5a-4e60-8f15-4657a6783419"
      },
      "outputs": [
        {
          "name": "stdout",
          "output_type": "stream",
          "text": [
            "accuracy_score on test dataset :  0.8207547169811321\n"
          ]
        }
      ],
      "source": [
        "predict_train = model.fit(X_train, y_train).predict(X_train)\n",
        "\n",
        "\n",
        "# predict the target on the test dataset\n",
        "predict_test = model.predict(X_test)\n",
        "\n",
        "# Accuracy Score on test dataset\n",
        "accuracy_test = accuracy_score(y_test,predict_test)\n",
        "print('accuracy_score on test dataset : ', accuracy_test)"
      ]
    },
    {
      "cell_type": "markdown",
      "metadata": {
        "id": "7HyxsPaXAaLP"
      },
      "source": [
        "\n",
        "\n",
        "---\n",
        "\n",
        "\n",
        "Accuracy score for test data recieved is 82%\n",
        "\n",
        "\n",
        "---\n",
        "\n"
      ]
    },
    {
      "cell_type": "code",
      "execution_count": 11,
      "metadata": {
        "colab": {
          "base_uri": "https://localhost:8080/"
        },
        "id": "fjUbXih3Amly",
        "outputId": "a6411521-803a-432b-ba6e-9b58d4c5cdd1"
      },
      "outputs": [
        {
          "name": "stdout",
          "output_type": "stream",
          "text": [
            "              precision    recall  f1-score   support\n",
            "\n",
            "         0.0       0.87      0.93      0.90      1076\n",
            "         1.0       0.37      0.23      0.28       196\n",
            "\n",
            "    accuracy                           0.82      1272\n",
            "   macro avg       0.62      0.58      0.59      1272\n",
            "weighted avg       0.79      0.82      0.80      1272\n",
            "\n"
          ]
        }
      ],
      "source": [
        "from sklearn.metrics import classification_report\n",
        "#print(classification_report(y_train,predict_train))\n",
        "print(classification_report(y_test,predict_test))"
      ]
    },
    {
      "attachments": {},
      "cell_type": "markdown",
      "metadata": {
        "id": "NVpnItruBILC"
      },
      "source": [
        "\n",
        "\n",
        "---\n",
        "\n",
        "\n",
        "3.We are evaluating the accuracy of the K-Nearest Neighbors(KNN).\n",
        "\n",
        "\n",
        "---\n",
        "\n"
      ]
    },
    {
      "cell_type": "code",
      "execution_count": 12,
      "metadata": {
        "colab": {
          "base_uri": "https://localhost:8080/"
        },
        "id": "5i19fZD7BCfS",
        "outputId": "94e399f0-4911-4db7-e565-b548e4f18882"
      },
      "outputs": [
        {
          "name": "stdout",
          "output_type": "stream",
          "text": [
            "              precision    recall  f1-score   support\n",
            "\n",
            "         0.0       0.85      0.95      0.89       719\n",
            "         1.0       0.17      0.06      0.09       129\n",
            "\n",
            "    accuracy                           0.81       848\n",
            "   macro avg       0.51      0.50      0.49       848\n",
            "weighted avg       0.75      0.81      0.77       848\n",
            "\n"
          ]
        }
      ],
      "source": [
        "#Create KNN Object.\n",
        "knn = KNeighborsClassifier()\n",
        "#Create x and y variables.\n",
        "x=data.iloc[:,:-1]\n",
        "y=data.iloc[:,-1]\n",
        "#Split data into training and testing.\n",
        "x_train, x_test, y_train, y_test = train_test_split(x, y, test_size=0.2, random_state=4)\n",
        "#Training the model.\n",
        "knn.fit(x_train, y_train)\n",
        "# Generate predictions on the test set\n",
        "y_pred = knn.predict(x_test)\n",
        "# Checking performance our model with classification report.\n",
        "print(classification_report(y_test, y_pred))\n"
      ]
    },
    {
      "cell_type": "markdown",
      "metadata": {
        "id": "FP5AcK7SBtph"
      },
      "source": [
        "\n",
        "\n",
        "---\n",
        "\n",
        "\n",
        "Accuracy score for test data recieved is 81%\n",
        "\n",
        "\n",
        "---\n",
        "\n"
      ]
    },
    {
      "cell_type": "markdown",
      "metadata": {
        "id": "TM2yJOgmDij2"
      },
      "source": [
        "\n",
        "\n",
        "---\n",
        "\n",
        "\n",
        "2.We are evaluating the accuracy of the Random Forest.\n",
        "\n",
        "\n",
        "---\n",
        "\n"
      ]
    },
    {
      "cell_type": "code",
      "execution_count": 13,
      "metadata": {
        "colab": {
          "base_uri": "https://localhost:8080/"
        },
        "id": "kbRBH20RToHL",
        "outputId": "5850069d-a9d8-4a62-dd3b-5c0dccc189f0"
      },
      "outputs": [],
      "source": [
        "#spliting of test data and target data.\n",
        "X=data.iloc[:,:-1]\n",
        "y=data.iloc[:,-1]\n",
        "  \n",
        "X_train,X_test,y_train,y_test=train_test_split(X,y,test_size=0.3,random_state=0)"
      ]
    },
    {
      "cell_type": "code",
      "execution_count": 14,
      "metadata": {
        "colab": {
          "base_uri": "https://localhost:8080/"
        },
        "id": "uJy_Vndc4CYS",
        "outputId": "e051601d-593f-4456-90fa-141f197327c6"
      },
      "outputs": [
        {
          "name": "stdout",
          "output_type": "stream",
          "text": [
            "              precision    recall  f1-score   support\n",
            "\n",
            "         0.0       0.99      0.85      0.92      1252\n",
            "         1.0       0.05      0.50      0.09        20\n",
            "\n",
            "    accuracy                           0.85      1272\n",
            "   macro avg       0.52      0.68      0.50      1272\n",
            "weighted avg       0.98      0.85      0.90      1272\n",
            "\n"
          ]
        },
        {
          "data": {
            "text/plain": [
              "0.8459119496855346"
            ]
          },
          "execution_count": 14,
          "metadata": {},
          "output_type": "execute_result"
        }
      ],
      "source": [
        "#applying random forest algorithm\n",
        "rm = RandomForestClassifier()\n",
        "rm.fit(X_train, y_train)\n",
        "\n",
        "# predict the mode\n",
        "y_pred = rm.predict(X_test)\n",
        "\n",
        "# performance evaluatio metrics\n",
        "print(classification_report(y_pred, y_test))\n",
        "score=accuracy_score(y_test,y_pred)\n",
        "\n",
        "score"
      ]
    },
    {
      "cell_type": "markdown",
      "metadata": {
        "id": "c3Vj6f0mrhnI"
      },
      "source": [
        "\n",
        "\n",
        "---\n",
        "\n",
        "\n",
        "\"The random forest algorithm resulted in an accuracy of 85%.\"\n",
        "\n",
        "\n",
        "---\n",
        "\n"
      ]
    },
    {
      "cell_type": "markdown",
      "metadata": {
        "id": "9nYGtWDCkV-j"
      },
      "source": [
        "Combining all algorithm and predict\n"
      ]
    },
    {
      "cell_type": "code",
      "execution_count": 15,
      "metadata": {
        "colab": {
          "base_uri": "https://localhost:8080/"
        },
        "id": "-N1hpdvpR0ie",
        "outputId": "2a9783f4-e683-45af-a9bb-1fc4bc3a2b87"
      },
      "outputs": [],
      "source": [
        "from sklearn.ensemble import StackingClassifier\n",
        "from sklearn.linear_model import LogisticRegression\n",
        "from sklearn.metrics import f1_score,precision_score,recall_score\n",
        "\n",
        "estimators =[\n",
        "   ('knn',knn),\n",
        "    (' dt',dt),\n",
        "    ('model',model),\n",
        "    ('rm',rm)\n",
        "    ]\n",
        "\n",
        "# Build stack model\n",
        "stack_model = StackingClassifier(\n",
        "estimators=estimators, final_estimator=LogisticRegression()\n",
        ")\n",
        "\n",
        "\n",
        "# Train stacked model\n",
        "stack_model.fit(X_train,y_train)\n",
        "\n",
        "#Make predictions\n",
        "\n",
        "y_train_pred = stack_model.predict (X_train)\n",
        "y_test_pred = stack_model.predict(X_test)\n",
        "\n"
      ]
    },
    {
      "cell_type": "code",
      "execution_count": 16,
      "metadata": {
        "id": "IsYaO6GQPOwp"
      },
      "outputs": [
        {
          "name": "stdout",
          "output_type": "stream",
          "text": [
            "Model performance for Training set\n",
            "_ Accuracy: 0.9221698113207547 \n",
            "_ Precision: 0.9287051706755005 \n",
            "_ Recall: 0.9221698113207547 \n",
            "- F1 score: 0.9103573788263035\n",
            "-------------------------------------------------------\n",
            "Model per formance for Test set \n",
            "- Accuracy:0.8474842767295597\n",
            "- Precision:0.805665400767577\n",
            "- Recall: 0.8474842767295597\n",
            "- F1 score: 0.7911134404845096\n"
          ]
        }
      ],
      "source": [
        "# Test set model performance\n",
        "stack_model_test_accuracy = accuracy_score (y_test, y_test_pred)#Calculate Accuracy \n",
        "stack_model_test_f1 = f1_score(y_test,y_test_pred, average= 'weighted') #Calculate F1-score\n",
        "stack_model_test_precision = precision_score(y_test, y_test_pred, average='weighted') # Calculate Precision\n",
        "stack_model_test_recall = recall_score(y_test, y_test_pred, average='weighted') # Calculate Recall\n",
        "\n",
        "print('-------------------------------------------------------')\n",
        "print( 'Model per formance for Test set ')\n",
        "print('- Accuracy:%s'  %stack_model_test_accuracy)\n",
        "print('- Precision:%s' %stack_model_test_precision)\n",
        "print('- Recall: %s' %stack_model_test_recall)\n",
        "print('- F1 score: %s'  %stack_model_test_f1)"
      ]
    },
    {
      "cell_type": "markdown",
      "metadata": {},
      "source": []
    },
    {
      "cell_type": "code",
      "execution_count": 17,
      "metadata": {},
      "outputs": [],
      "source": [
        "import pickle\n",
        "pickle_out = open(\"1.pkl\",\"wb\")\n",
        "pickle.dump(stack_model, pickle_out)\n",
        "pickle_out.close()"
      ]
    },
    {
      "cell_type": "code",
      "execution_count": null,
      "metadata": {},
      "outputs": [],
      "source": []
    }
  ],
  "metadata": {
    "colab": {
      "provenance": []
    },
    "kernelspec": {
      "display_name": "Python 3",
      "language": "python",
      "name": "python3"
    },
    "language_info": {
      "codemirror_mode": {
        "name": "ipython",
        "version": 3
      },
      "file_extension": ".py",
      "mimetype": "text/x-python",
      "name": "python",
      "nbconvert_exporter": "python",
      "pygments_lexer": "ipython3",
      "version": "3.10.10"
    },
    "vscode": {
      "interpreter": {
        "hash": "a34dc9de535723e41e1e786c9ff2707f83288bd22b5abcf1e701f4e8ba3ea550"
      }
    }
  },
  "nbformat": 4,
  "nbformat_minor": 0
}
